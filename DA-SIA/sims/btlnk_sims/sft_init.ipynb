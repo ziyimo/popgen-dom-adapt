{
 "cells": [
  {
   "cell_type": "code",
   "execution_count": 1,
   "metadata": {},
   "outputs": [],
   "source": [
    "import msprime\n",
    "import pyslim\n",
    "import tskit\n",
    "import numpy as np"
   ]
  },
  {
   "cell_type": "code",
   "execution_count": 2,
   "metadata": {},
   "outputs": [],
   "source": [
    "import matplotlib.pyplot as plt\n",
    "from IPython.display import display, SVG"
   ]
  },
  {
   "cell_type": "code",
   "execution_count": 3,
   "metadata": {},
   "outputs": [],
   "source": [
    "scale = 1\n",
    "sc_min = 0.001\n",
    "sc_max = 0.02\n",
    "rec = 50\n",
    "anc = 8000\n",
    "\n",
    "sim_len = 5e3\n",
    "rho = 1e-8*scale\n",
    "Ne = 10000"
   ]
  },
  {
   "attachments": {},
   "cell_type": "markdown",
   "metadata": {},
   "source": [
    "### Bottleneck demo"
   ]
  },
  {
   "cell_type": "code",
   "execution_count": 4,
   "metadata": {},
   "outputs": [],
   "source": [
    "t_end = 1000 # bottleneck end time\n",
    "t_start = 2000 # bottleneck start time\n",
    "N_btnk = 5000"
   ]
  },
  {
   "cell_type": "code",
   "execution_count": 7,
   "metadata": {},
   "outputs": [],
   "source": [
    "logunif = bool(np.random.randint(2))\n",
    "if logunif:\n",
    "    SC = np.exp(np.random.uniform(np.log(sc_min*scale), np.log(sc_max*scale)))\n",
    "else:\n",
    "    SC = np.random.uniform(sc_min*scale, sc_max*scale)\n",
    "\n",
    "# rec = (10**1.2)*(SC**(-0.9)) # for scale = 10\n",
    "# anc = (10**1.55)*(SC**(-0.9))\n",
    "\n",
    "mutgen = t_end\n",
    "\n",
    "while mutgen in [t_start, t_end]: # exclude edge cases\n",
    "    logunif = bool(np.random.randint(2))\n",
    "    if logunif:\n",
    "        mutgen = int(np.exp(np.random.uniform(np.log(rec), np.log(anc))))\n",
    "    else:\n",
    "        mutgen = np.random.randint(rec, anc) # scaled generation of selection onset (before present)"
   ]
  },
  {
   "cell_type": "code",
   "execution_count": 8,
   "metadata": {},
   "outputs": [
    {
     "data": {
      "text/plain": [
       "(0.0020126969717015495, 141)"
      ]
     },
     "execution_count": 8,
     "metadata": {},
     "output_type": "execute_result"
    }
   ],
   "source": [
    "SC, mutgen"
   ]
  },
  {
   "cell_type": "code",
   "execution_count": 9,
   "metadata": {},
   "outputs": [],
   "source": [
    "demography = msprime.Demography()"
   ]
  },
  {
   "cell_type": "code",
   "execution_count": 10,
   "metadata": {},
   "outputs": [],
   "source": [
    "extant_indvs = int(Ne/scale)\n",
    "if mutgen >= t_start:\n",
    "    demography.add_population(name=\"A\", initial_size=extant_indvs)\n",
    "elif mutgen < t_end:\n",
    "    demography.add_population(name=\"A\", initial_size=extant_indvs)\n",
    "    demography.add_population_parameters_change(time=int((t_end-mutgen)/scale), population=\"A\", initial_size=int(N_btnk/scale))\n",
    "    demography.add_population_parameters_change(time=int((t_start-mutgen)/scale), population=\"A\", initial_size=int(Ne/scale))\n",
    "else:\n",
    "    extant_indvs = int(N_btnk/scale)\n",
    "    demography.add_population(name=\"A\", initial_size=extant_indvs)\n",
    "    demography.add_population_parameters_change(time=int((t_start-mutgen)/scale), population=\"A\", initial_size=int(Ne/scale))"
   ]
  },
  {
   "cell_type": "code",
   "execution_count": 11,
   "metadata": {},
   "outputs": [
    {
     "data": {
      "text/html": [
       "<div style=\"margin-left:20px\"><div><style scoped=\"\">\n",
       "            .tskit-table thead tr th:only-of-type {vertical-align: middle;}\n",
       "            .tskit-table thead tr th {text-align: center;vertical-align: top;}\n",
       "            .tskit-table tbody td {text-align: right;padding: 0.5em 0.5em;}\n",
       "            .tskit-table tbody th {padding: 0.5em 0.5em;}\n",
       "        </style><b>Populations (1)</b><table border=\"1\" class=\"tskit-table\"><thead><tr><th>id</th><th>name</th><th>description</th><th>initial_size</th><th>growth_rate</th><th>default_sampling_time</th><th>extra_metadata</th></tr></thead><tbody><tr><td>0</td><td>A</td><td></td><td>10000.0</td><td>0</td><td>0</td><td>{}</td></tr></tbody></table></div><div><style scoped=\"\">\n",
       "            .tskit-table thead tr th:only-of-type {vertical-align: middle;}\n",
       "            .tskit-table thead tr th {text-align: center;vertical-align: top;}\n",
       "            .tskit-table tbody td {text-align: right;padding: 0.5em 0.5em;}\n",
       "            .tskit-table tbody th {padding: 0.5em 0.5em;}\n",
       "        </style><b>Migration matrix (all zero)</b><table border=\"1\" class=\"tskit-table\"><thead><tr></tr></thead><tbody></tbody></table></div><div><style scoped=\"\">\n",
       "            .tskit-table thead tr th:only-of-type {vertical-align: middle;}\n",
       "            .tskit-table thead tr th {text-align: center;vertical-align: top;}\n",
       "            .tskit-table tbody td {text-align: right;padding: 0.5em 0.5em;}\n",
       "            .tskit-table tbody th {padding: 0.5em 0.5em;}\n",
       "        </style><b>Events (2)</b><table border=\"1\" class=\"tskit-table\"><thead><tr><th>time</th><th>type</th><th>parameters</th><th>effect</th></tr></thead><tbody><tr><td>859</td><td><a href='https://tskit.dev/msprime/docs/latest/api.html#msprime.Demography.add_population_parameters_change'>Population parameter change</a></td><td>population=A, initial_size=5000</td><td>initial_size → 5e+03 for population A</td></tr><tr><td>1859</td><td><a href='https://tskit.dev/msprime/docs/latest/api.html#msprime.Demography.add_population_parameters_change'>Population parameter change</a></td><td>population=A, initial_size=10000</td><td>initial_size → 1e+04 for population A</td></tr></tbody></table></div></div>"
      ],
      "text/plain": [
       "Demography(populations=[Population(initial_size=10000, growth_rate=0, name='A', description='', extra_metadata={}, default_sampling_time=None, initially_active=None, id=0)], events=[PopulationParametersChange(time=859, initial_size=5000, growth_rate=None, population='A'), PopulationParametersChange(time=1859, initial_size=10000, growth_rate=None, population='A')], migration_matrix=array([[0.]]))"
      ]
     },
     "execution_count": 11,
     "metadata": {},
     "output_type": "execute_result"
    }
   ],
   "source": [
    "demography"
   ]
  },
  {
   "cell_type": "code",
   "execution_count": 12,
   "metadata": {},
   "outputs": [
    {
     "data": {
      "text/html": [
       "<div><details open=\"true\"><summary>Epoch[0]: [0, 859) generations</summary><div style=\"margin-left:20px\"><div><style scoped=\"\">\n",
       "            .tskit-table thead tr th:only-of-type {vertical-align: middle;}\n",
       "            .tskit-table thead tr th {text-align: center;vertical-align: top;}\n",
       "            .tskit-table tbody td {text-align: right;padding: 0.5em 0.5em;}\n",
       "            .tskit-table tbody th {padding: 0.5em 0.5em;}\n",
       "        </style><b>Populations (total=1 active=1)</b><table border=\"1\" class=\"tskit-table\"><thead><tr><th></th><th>start</th><th>end</th><th>growth_rate</th></tr></thead><tbody><tr><td>A</td><td> 10000.0</td><td> 10000.0</td><td> 0</td></tr></tbody></table></div><div><style scoped=\"\">\n",
       "            .tskit-table thead tr th:only-of-type {vertical-align: middle;}\n",
       "            .tskit-table thead tr th {text-align: center;vertical-align: top;}\n",
       "            .tskit-table tbody td {text-align: right;padding: 0.5em 0.5em;}\n",
       "            .tskit-table tbody th {padding: 0.5em 0.5em;}\n",
       "        </style><b>Events @ generation 859</b><table border=\"1\" class=\"tskit-table\"><thead><tr><th>time</th><th>type</th><th>parameters</th><th>effect</th></tr></thead><tbody><tr><td>859</td><td><a href='https://tskit.dev/msprime/docs/latest/api.html#msprime.Demography.add_population_parameters_change'>Population parameter change</a></td><td>population=A, initial_size=5000</td><td>initial_size → 5e+03 for population A</td></tr></tbody></table></div></div></details><details open=\"true\"><summary>Epoch[1]: [859, 1.86e+03) generations</summary><div style=\"margin-left:20px\"><div><style scoped=\"\">\n",
       "            .tskit-table thead tr th:only-of-type {vertical-align: middle;}\n",
       "            .tskit-table thead tr th {text-align: center;vertical-align: top;}\n",
       "            .tskit-table tbody td {text-align: right;padding: 0.5em 0.5em;}\n",
       "            .tskit-table tbody th {padding: 0.5em 0.5em;}\n",
       "        </style><b>Populations (total=1 active=1)</b><table border=\"1\" class=\"tskit-table\"><thead><tr><th></th><th>start</th><th>end</th><th>growth_rate</th></tr></thead><tbody><tr><td>A</td><td> 5000.0</td><td> 5000.0</td><td> 0</td></tr></tbody></table></div><div><style scoped=\"\">\n",
       "            .tskit-table thead tr th:only-of-type {vertical-align: middle;}\n",
       "            .tskit-table thead tr th {text-align: center;vertical-align: top;}\n",
       "            .tskit-table tbody td {text-align: right;padding: 0.5em 0.5em;}\n",
       "            .tskit-table tbody th {padding: 0.5em 0.5em;}\n",
       "        </style><b>Events @ generation 1.86e+03</b><table border=\"1\" class=\"tskit-table\"><thead><tr><th>time</th><th>type</th><th>parameters</th><th>effect</th></tr></thead><tbody><tr><td>1859</td><td><a href='https://tskit.dev/msprime/docs/latest/api.html#msprime.Demography.add_population_parameters_change'>Population parameter change</a></td><td>population=A, initial_size=10000</td><td>initial_size → 1e+04 for population A</td></tr></tbody></table></div></div></details><details open=\"true\"><summary>Epoch[2]: [1.86e+03, inf) generations</summary><div style=\"margin-left:20px\"><div><style scoped=\"\">\n",
       "            .tskit-table thead tr th:only-of-type {vertical-align: middle;}\n",
       "            .tskit-table thead tr th {text-align: center;vertical-align: top;}\n",
       "            .tskit-table tbody td {text-align: right;padding: 0.5em 0.5em;}\n",
       "            .tskit-table tbody th {padding: 0.5em 0.5em;}\n",
       "        </style><b>Populations (total=1 active=1)</b><table border=\"1\" class=\"tskit-table\"><thead><tr><th></th><th>start</th><th>end</th><th>growth_rate</th></tr></thead><tbody><tr><td>A</td><td> 10000.0</td><td> 10000.0</td><td> 0</td></tr></tbody></table></div></div></details></div>"
      ],
      "text/plain": [
       "<msprime.demography.DemographyDebugger at 0x155122d42cd0>"
      ]
     },
     "execution_count": 12,
     "metadata": {},
     "output_type": "execute_result"
    }
   ],
   "source": [
    "demography.debug()"
   ]
  },
  {
   "cell_type": "code",
   "execution_count": 13,
   "metadata": {},
   "outputs": [],
   "source": [
    "ts_init = msprime.sim_ancestry(samples=extant_indvs,\n",
    "                               demography=demography,\n",
    "                               sequence_length=sim_len,\n",
    "                               recombination_rate=rho)"
   ]
  },
  {
   "cell_type": "code",
   "execution_count": 14,
   "metadata": {},
   "outputs": [
    {
     "data": {
      "text/plain": [
       "10000"
      ]
     },
     "execution_count": 14,
     "metadata": {},
     "output_type": "execute_result"
    }
   ],
   "source": [
    "ts_init.num_individuals"
   ]
  },
  {
   "cell_type": "code",
   "execution_count": 15,
   "metadata": {},
   "outputs": [
    {
     "data": {
      "text/plain": [
       "20000"
      ]
     },
     "execution_count": 15,
     "metadata": {},
     "output_type": "execute_result"
    }
   ],
   "source": [
    "ts_init.num_samples"
   ]
  },
  {
   "cell_type": "code",
   "execution_count": 16,
   "metadata": {},
   "outputs": [
    {
     "data": {
      "text/plain": [
       "[Population(id=0, metadata={'description': '', 'name': 'A'})]"
      ]
     },
     "execution_count": 16,
     "metadata": {},
     "output_type": "execute_result"
    }
   ],
   "source": [
    "list(ts_init.populations())"
   ]
  },
  {
   "cell_type": "code",
   "execution_count": 17,
   "metadata": {},
   "outputs": [],
   "source": [
    "center_gen = ts_init.at(sim_len/2)"
   ]
  },
  {
   "cell_type": "code",
   "execution_count": 18,
   "metadata": {},
   "outputs": [],
   "source": [
    "subtree_size = np.empty((len(list(center_gen.nodes())), 2), dtype=int) # node_id | total leaves"
   ]
  },
  {
   "cell_type": "code",
   "execution_count": 19,
   "metadata": {},
   "outputs": [
    {
     "data": {
      "text/plain": [
       "(39999, 2)"
      ]
     },
     "execution_count": 19,
     "metadata": {},
     "output_type": "execute_result"
    }
   ],
   "source": [
    "subtree_size.shape"
   ]
  },
  {
   "cell_type": "code",
   "execution_count": 20,
   "metadata": {},
   "outputs": [],
   "source": [
    "for idx, nd in enumerate(center_gen.nodes()):\n",
    "    for samp_nd in center_gen.samples(nd):\n",
    "        assert center_gen.population(samp_nd) == 0\n",
    "    subtree_size[idx] = [nd, center_gen.num_samples(nd)] ## samples, not individuals"
   ]
  },
  {
   "cell_type": "code",
   "execution_count": null,
   "metadata": {},
   "outputs": [],
   "source": [
    "subtree_size # node_id | total leaves"
   ]
  },
  {
   "cell_type": "code",
   "execution_count": null,
   "metadata": {},
   "outputs": [],
   "source": [
    "np.unique(subtree_size[:,1], return_counts=True)"
   ]
  },
  {
   "cell_type": "code",
   "execution_count": 21,
   "metadata": {},
   "outputs": [],
   "source": [
    "intNode_AF = subtree_size[:,1]/(2*extant_indvs)"
   ]
  },
  {
   "cell_type": "code",
   "execution_count": null,
   "metadata": {},
   "outputs": [],
   "source": [
    "hist, bins, _ = plt.hist(intNode_AF, bins=50)\n",
    "logbins = np.logspace(np.log10(bins[0]),np.log10(bins[-1]),len(bins))"
   ]
  },
  {
   "cell_type": "code",
   "execution_count": 23,
   "metadata": {},
   "outputs": [
    {
     "data": {
      "image/png": "[encoded data removed]",
      "text/plain": [
       "<Figure size 640x480 with 1 Axes>"
      ]
     },
     "metadata": {},
     "output_type": "display_data"
    }
   ],
   "source": [
    "plt.hist(intNode_AF, bins=logbins)\n",
    "plt.xscale('log')\n",
    "plt.show()"
   ]
  },
  {
   "cell_type": "code",
   "execution_count": 24,
   "metadata": {},
   "outputs": [],
   "source": [
    "AF_thr = np.random.uniform(0.01, 0.1)"
   ]
  },
  {
   "cell_type": "code",
   "execution_count": 25,
   "metadata": {},
   "outputs": [],
   "source": [
    "mut_nd_idx = np.abs(intNode_AF - AF_thr).argmin()"
   ]
  },
  {
   "cell_type": "code",
   "execution_count": 26,
   "metadata": {},
   "outputs": [
    {
     "data": {
      "text/plain": [
       "11969"
      ]
     },
     "execution_count": 26,
     "metadata": {},
     "output_type": "execute_result"
    }
   ],
   "source": [
    "mut_nd_idx"
   ]
  },
  {
   "cell_type": "code",
   "execution_count": 27,
   "metadata": {},
   "outputs": [],
   "source": [
    "AF_init = intNode_AF[mut_nd_idx]"
   ]
  },
  {
   "cell_type": "code",
   "execution_count": 28,
   "metadata": {},
   "outputs": [
    {
     "data": {
      "text/plain": [
       "(array([39429,   227]), 0.01135)"
      ]
     },
     "execution_count": 28,
     "metadata": {},
     "output_type": "execute_result"
    }
   ],
   "source": [
    "subtree_size[mut_nd_idx], AF_init"
   ]
  },
  {
   "cell_type": "code",
   "execution_count": 29,
   "metadata": {},
   "outputs": [],
   "source": [
    "test_pref = \"test0614aft\""
   ]
  },
  {
   "cell_type": "code",
   "execution_count": 30,
   "metadata": {},
   "outputs": [],
   "source": [
    "np.savetxt(f\"{test_pref}.param\", [sim_len, SC, mutgen, AF_init, t_start, t_end, N_btnk], fmt='%f')"
   ]
  },
  {
   "cell_type": "code",
   "execution_count": 31,
   "metadata": {},
   "outputs": [
    {
     "data": {
      "text/plain": [
       "Node(id=39429, flags=0, time=66.10211856681542, population=0, individual=-1, metadata=b'')"
      ]
     },
     "execution_count": 31,
     "metadata": {},
     "output_type": "execute_result"
    }
   ],
   "source": [
    "mut_nd = subtree_size[mut_nd_idx, 0]\n",
    "ts_init.node(mut_nd)"
   ]
  },
  {
   "cell_type": "code",
   "execution_count": 32,
   "metadata": {},
   "outputs": [
    {
     "data": {
      "text/plain": [
       "67.0"
      ]
     },
     "execution_count": 32,
     "metadata": {},
     "output_type": "execute_result"
    }
   ],
   "source": [
    "np.ceil(ts_init.node(mut_nd).time)"
   ]
  },
  {
   "cell_type": "code",
   "execution_count": 33,
   "metadata": {},
   "outputs": [],
   "source": [
    "init_tables = ts_init.dump_tables()"
   ]
  },
  {
   "cell_type": "code",
   "execution_count": 34,
   "metadata": {},
   "outputs": [
    {
     "data": {
      "text/plain": [
       "<tskit.tables.TableCollection at 0x155122856af0>"
      ]
     },
     "execution_count": 34,
     "metadata": {},
     "output_type": "execute_result"
    }
   ],
   "source": [
    "init_tables"
   ]
  },
  {
   "cell_type": "code",
   "execution_count": 35,
   "metadata": {},
   "outputs": [
    {
     "data": {
      "text/plain": [
       "0"
      ]
     },
     "execution_count": 35,
     "metadata": {},
     "output_type": "execute_result"
    }
   ],
   "source": [
    "init_tables.sites.add_row(position=sim_len/2, ancestral_state=\"A\")"
   ]
  },
  {
   "cell_type": "code",
   "execution_count": 36,
   "metadata": {},
   "outputs": [
    {
     "data": {
      "text/plain": [
       "0"
      ]
     },
     "execution_count": 36,
     "metadata": {},
     "output_type": "execute_result"
    }
   ],
   "source": [
    "init_tables.mutations.add_row(site=0, node=mut_nd, derived_state=\"T\", time=int(np.ceil(ts_init.node(mut_nd).time)))"
   ]
  },
  {
   "cell_type": "code",
   "execution_count": 37,
   "metadata": {},
   "outputs": [
    {
     "data": {
      "text/plain": [
       "0"
      ]
     },
     "execution_count": 37,
     "metadata": {},
     "output_type": "execute_result"
    }
   ],
   "source": [
    "max(init_tables.nodes.population)"
   ]
  },
  {
   "cell_type": "code",
   "execution_count": 38,
   "metadata": {
    "scrolled": true
   },
   "outputs": [
    {
     "data": {
      "text/html": [
       "\n",
       "        <div>\n",
       "            <style scoped=\"\">\n",
       "                .tskit-table tbody tr th:only-of-type {vertical-align: middle;}\n",
       "                .tskit-table tbody tr th {vertical-align: top;}\n",
       "                .tskit-table tbody td {text-align: right;padding: 0.5em 0.5em;}\n",
       "                .tskit-table tbody th {padding: 0.5em 0.5em;}\n",
       "            </style>\n",
       "            <table border=\"1\" class=\"tskit-table\">\n",
       "                <thead>\n",
       "                    <tr>\n",
       "                        <th>id</th><th>position</th><th>ancestral_state</th><th>metadata</th>\n",
       "                    </tr>\n",
       "                </thead>\n",
       "                <tbody>\n",
       "                    <tr><td>0</td><td>2500</td><td>A</td><td></td></tr>\n",
       "\n",
       "                </tbody>\n",
       "            </table>\n",
       "        </div>\n",
       "    "
      ],
      "text/plain": [
       "<tskit.tables.SiteTable at 0x155122856670>"
      ]
     },
     "execution_count": 38,
     "metadata": {},
     "output_type": "execute_result"
    }
   ],
   "source": [
    "init_tables.sites"
   ]
  },
  {
   "cell_type": "code",
   "execution_count": 39,
   "metadata": {},
   "outputs": [
    {
     "data": {
      "text/html": [
       "\n",
       "        <div>\n",
       "            <style scoped=\"\">\n",
       "                .tskit-table tbody tr th:only-of-type {vertical-align: middle;}\n",
       "                .tskit-table tbody tr th {vertical-align: top;}\n",
       "                .tskit-table tbody td {text-align: right;padding: 0.5em 0.5em;}\n",
       "                .tskit-table tbody th {padding: 0.5em 0.5em;}\n",
       "            </style>\n",
       "            <table border=\"1\" class=\"tskit-table\">\n",
       "                <thead>\n",
       "                    <tr>\n",
       "                        <th>id</th><th>site</th><th>node</th><th>time</th><th>derived_state</th><th>parent</th><th>metadata</th>\n",
       "                    </tr>\n",
       "                </thead>\n",
       "                <tbody>\n",
       "                    <tr><td>0</td><td>0</td><td>39429</td><td>67</td><td>T</td><td>-1</td><td></td></tr>\n",
       "\n",
       "                </tbody>\n",
       "            </table>\n",
       "        </div>\n",
       "    "
      ],
      "text/plain": [
       "<tskit.tables.MutationTable at 0x155122856610>"
      ]
     },
     "execution_count": 39,
     "metadata": {},
     "output_type": "execute_result"
    }
   ],
   "source": [
    "init_tables.mutations"
   ]
  },
  {
   "cell_type": "code",
   "execution_count": 40,
   "metadata": {},
   "outputs": [],
   "source": [
    "ts_init_mut = init_tables.tree_sequence()"
   ]
  },
  {
   "cell_type": "code",
   "execution_count": 41,
   "metadata": {},
   "outputs": [],
   "source": [
    "ts_init_mut = pyslim.annotate(ts_init_mut, model_type=\"WF\", tick=1, stage=\"late\")"
   ]
  },
  {
   "cell_type": "code",
   "execution_count": 42,
   "metadata": {},
   "outputs": [
    {
     "data": {
      "text/plain": [
       "227"
      ]
     },
     "execution_count": 42,
     "metadata": {},
     "output_type": "execute_result"
    }
   ],
   "source": [
    "ts_init_mut.genotype_matrix().sum()"
   ]
  },
  {
   "cell_type": "code",
   "execution_count": 43,
   "metadata": {},
   "outputs": [],
   "source": [
    "ts_init_mut.dump(f\"{test_pref}.trees\")"
   ]
  },
  {
   "cell_type": "code",
   "execution_count": null,
   "metadata": {},
   "outputs": [],
   "source": [
    "SVG(ts_init_mut.at(sim_len/2).draw_svg(\n",
    "    size=(500, 500),\n",
    "    y_gridlines=True,\n",
    "    y_axis=True,\n",
    "    #tree_height_scale=\"log_time\",\n",
    "    #node_labels={},    # Remove all node labels for a clearer viz\n",
    "    #style=css_string,  # Apply the stylesheet\n",
    "))"
   ]
  },
  {
   "attachments": {},
   "cell_type": "markdown",
   "metadata": {},
   "source": [
    "#### Overlay mutations"
   ]
  },
  {
   "cell_type": "code",
   "execution_count": null,
   "metadata": {},
   "outputs": [],
   "source": [
    "ts_slim = pyslim.load(\"testinf_slim.trees\")"
   ]
  },
  {
   "cell_type": "code",
   "execution_count": null,
   "metadata": {},
   "outputs": [],
   "source": [
    "ts_slim"
   ]
  },
  {
   "cell_type": "code",
   "execution_count": null,
   "metadata": {},
   "outputs": [],
   "source": [
    "max(t.num_roots for t in ts_slim.trees())"
   ]
  },
  {
   "cell_type": "code",
   "execution_count": null,
   "metadata": {},
   "outputs": [],
   "source": [
    "ts_slim.tables.mutations[0]"
   ]
  },
  {
   "cell_type": "code",
   "execution_count": null,
   "metadata": {},
   "outputs": [],
   "source": [
    "ts_slim.tables.populations"
   ]
  },
  {
   "cell_type": "code",
   "execution_count": null,
   "metadata": {},
   "outputs": [],
   "source": [
    "alive = ts_slim.individuals_alive_at(0)\n",
    "\n",
    "print(f\"There are {len(alive)} individuals alive from the final generation.\")\n",
    "\n",
    "num_alive = [0 for _ in range(ts_slim.num_populations)]\n",
    "for i in alive:\n",
    "    ind = ts_slim.individual(i)\n",
    "    num_alive[ind.population] += 1\n",
    "\n",
    "for pop, num in enumerate(num_alive):\n",
    "    print(f\"Number of individuals in population {pop}: {num}\")"
   ]
  },
  {
   "cell_type": "code",
   "execution_count": null,
   "metadata": {},
   "outputs": [],
   "source": [
    "pop_indivs = [[], [], []]\n",
    "for i in ts_slim.individuals_alive_at(0):\n",
    "    ind = ts_slim.individual(i)\n",
    "    pop_indivs[ind.population].append(i)"
   ]
  },
  {
   "cell_type": "code",
   "execution_count": null,
   "metadata": {},
   "outputs": [],
   "source": [
    "len(pop_indivs[0]), len(pop_indivs[1]), len(pop_indivs[2])"
   ]
  },
  {
   "cell_type": "code",
   "execution_count": null,
   "metadata": {},
   "outputs": [],
   "source": [
    "keep_indivs = np.random.choice(pop_indivs[1], 16, replace=False)\n",
    "keep_nodes = []\n",
    "for i in keep_indivs:\n",
    "    keep_nodes.extend(ts_slim.individual(i).nodes)\n",
    "sts = ts_slim.simplify(keep_nodes)"
   ]
  },
  {
   "cell_type": "code",
   "execution_count": null,
   "metadata": {},
   "outputs": [],
   "source": [
    "print(f\"Before, there were {ts_slim.num_samples} sample nodes (and {ts_slim.num_individuals} individuals) \"\n",
    "       f\"in the tree sequence, and now there are {sts.num_samples} sample nodes \"\n",
    "       f\"(and {sts.num_individuals} individuals).\")"
   ]
  },
  {
   "cell_type": "code",
   "execution_count": null,
   "metadata": {},
   "outputs": [],
   "source": [
    "sts"
   ]
  },
  {
   "cell_type": "code",
   "execution_count": null,
   "metadata": {},
   "outputs": [],
   "source": [
    "msprime.mutate(sts, rate=1e-9*10, keep=True)"
   ]
  },
  {
   "cell_type": "code",
   "execution_count": null,
   "metadata": {},
   "outputs": [],
   "source": [
    "sts = pyslim.load(\"testtru_samp.trees\")"
   ]
  },
  {
   "cell_type": "code",
   "execution_count": null,
   "metadata": {},
   "outputs": [],
   "source": [
    "SVG(sts.at(5e4).draw_svg(\n",
    "    size=(500, 500),\n",
    "    y_gridlines=True,\n",
    "    y_axis=True,\n",
    "    #tree_height_scale=\"log_time\",\n",
    "    #node_labels={},    # Remove all node labels for a clearer viz\n",
    "    #style=css_string,  # Apply the stylesheet\n",
    "))"
   ]
  },
  {
   "cell_type": "code",
   "execution_count": null,
   "metadata": {},
   "outputs": [],
   "source": [
    "SVG(sts.at(5e4).draw_svg(\n",
    "    size=(500, 500),\n",
    "    y_gridlines=True,\n",
    "    y_axis=True,\n",
    "    #tree_height_scale=\"log_time\",\n",
    "    #node_labels={},    # Remove all node labels for a clearer viz\n",
    "    #style=css_string,  # Apply the stylesheet\n",
    "))"
   ]
  },
  {
   "cell_type": "code",
   "execution_count": null,
   "metadata": {},
   "outputs": [],
   "source": [
    "wide_fmt = (1200, 250)\n",
    "\n",
    "styles = []\n",
    "# Create a style for each population, programmatically (or just type the string by hand)\n",
    "for colour, p in zip(['red', 'green', 'blue'], samp_ts.populations()):\n",
    "    # target the symbols only (class \"sym\")\n",
    "    s = f\".node.p{p.id} > .sym \" + \"{\" + f\"fill: {colour}\" + \"}\"\n",
    "    styles.append(s)\n",
    "    #print(f'\"{s}\" applies to nodes from population {p.metadata[\"name\"]} (id {p.id})')\n",
    "css_string = \" \".join(styles)\n",
    "print(f'CSS string applied:\\n    \"{css_string}\"')\n",
    "\n",
    "SVG(samp_ts.at(5e4).draw_svg(\n",
    "    size=wide_fmt,\n",
    "    tree_height_scale=\"log_time\",\n",
    "    y_gridlines=True,\n",
    "    y_axis=True,\n",
    "    node_labels={},    # Remove all node labels for a clearer viz\n",
    "    style=css_string,  # Apply the stylesheet\n",
    "))"
   ]
  },
  {
   "cell_type": "code",
   "execution_count": null,
   "metadata": {},
   "outputs": [],
   "source": [
    "plt.hist(pop_noSamps[pop_noSamps[:, 1] == 1][:, 2])"
   ]
  },
  {
   "attachments": {},
   "cell_type": "markdown",
   "metadata": {},
   "source": [
    "### Neutral sims in msprime"
   ]
  },
  {
   "cell_type": "code",
   "execution_count": 3,
   "metadata": {},
   "outputs": [],
   "source": [
    "scale = 1\n",
    "N = 16\n",
    "rho = 1e-8*scale\n",
    "sim_len = 1e4"
   ]
  },
  {
   "cell_type": "code",
   "execution_count": null,
   "metadata": {},
   "outputs": [],
   "source": [
    "demography = msprime.Demography()\n",
    "## Tru\n",
    "\n",
    "N_B = 50000\n",
    "N_C = 10000\n",
    "N_BC = 20000\n",
    "\n",
    "demography.add_population(name=\"B\", initial_size=int(N_B/scale))\n",
    "demography.add_population(name=\"C\", initial_size=int(N_C/scale))\n",
    "demography.add_population(name=\"BC\", initial_size=int(N_BC/scale))\n",
    "\n",
    "demography.set_migration_rate(source=\"C\", dest=\"B\", rate=0.001)\n",
    "demography.set_migration_rate(source=\"B\", dest=\"C\", rate=0.0001)\n",
    "\n",
    "demography.add_population_parameters_change(time=int(8000/scale), population=\"C\", initial_size=5000)\n",
    "demography.add_migration_rate_change(time=int(8000/scale), source=\"C\", dest=\"B\", rate=0.01)\n",
    "demography.add_migration_rate_change(time=int(8000/scale), source=\"B\", dest=\"C\", rate=0)\n",
    "\n",
    "demography.add_population_split(time=int(9000/scale), derived=[\"B\", \"C\"], ancestral=\"BC\")"
   ]
  },
  {
   "cell_type": "code",
   "execution_count": null,
   "metadata": {},
   "outputs": [],
   "source": [
    "demography = msprime.Demography()\n",
    "## Inf\n",
    "\n",
    "N_B = 30281\n",
    "N_C = 10100\n",
    "N_BC = 33980\n",
    "N_ABC = 11593\n",
    "\n",
    "tau_BC = 845\n",
    "tau_ABC = 17937\n",
    "mig_B2C = 0.0002148\n",
    "\n",
    "demography.add_population(name=\"B\", initial_size=int(N_B/scale))\n",
    "demography.add_population(name=\"C\", initial_size=int(N_C/scale))\n",
    "demography.add_population(name=\"BC\", initial_size=int(N_BC/scale))\n",
    "\n",
    "demography.set_migration_rate(source=\"C\", dest=\"B\", rate=mig_B2C)\n",
    "\n",
    "demography.add_population_split(time=int(tau_BC/scale), derived=[\"B\", \"C\"], ancestral=\"BC\")\n",
    "demography.add_population_parameters_change(time=int(tau_ABC/scale), population=\"BC\", initial_size=N_ABC)"
   ]
  },
  {
   "cell_type": "code",
   "execution_count": null,
   "metadata": {},
   "outputs": [],
   "source": [
    "demography"
   ]
  },
  {
   "cell_type": "code",
   "execution_count": null,
   "metadata": {},
   "outputs": [],
   "source": [
    "ts_init = msprime.sim_ancestry(samples={\"B\":int(N_B/scale), \"C\":int(N_C/scale)},\n",
    "                               demography=demography,\n",
    "                               sequence_length=sim_len,\n",
    "                               recombination_rate=rho)"
   ]
  },
  {
   "cell_type": "code",
   "execution_count": null,
   "metadata": {},
   "outputs": [],
   "source": [
    "ts_init"
   ]
  },
  {
   "cell_type": "code",
   "execution_count": null,
   "metadata": {},
   "outputs": [],
   "source": [
    "ts_init.tables.populations"
   ]
  },
  {
   "cell_type": "code",
   "execution_count": null,
   "metadata": {},
   "outputs": [],
   "source": [
    "center_gen = ts_init.at(sim_len/2)\n",
    "pop_noSamps = np.empty((len(list(center_gen.nodes())), 5), dtype=int) # node_id | population | total leaves | B leaves | C leaves\n",
    "for idx, nd in enumerate(center_gen.nodes()):\n",
    "    pop_samp_count = [0, 0] # B_cnt, C_cnt\n",
    "    for samp_nd in center_gen.samples(nd):\n",
    "        pop_samp_count[center_gen.population(samp_nd)] += 1\n",
    "    pop_noSamps[idx] = [nd, center_gen.population(nd), center_gen.num_samples(nd)] + pop_samp_count ## samples, not individuals"
   ]
  },
  {
   "cell_type": "code",
   "execution_count": null,
   "metadata": {},
   "outputs": [],
   "source": [
    "pop_noSamps.shape"
   ]
  },
  {
   "cell_type": "code",
   "execution_count": null,
   "metadata": {},
   "outputs": [],
   "source": [
    "AF_isl = pop_noSamps[:, 4]/(2*N_C/scale)\n",
    "AF_thr = np.random.uniform(0.2, 0.95)\n",
    "mut_nd_idx = np.abs(AF_isl - AF_thr).argmin()"
   ]
  },
  {
   "cell_type": "code",
   "execution_count": null,
   "metadata": {},
   "outputs": [],
   "source": [
    "AF_init = pop_noSamps[mut_nd_idx, 4]/(2*N_C/scale)\n",
    "AF_B = pop_noSamps[mut_nd_idx, 3]/(2*N_B/scale)\n",
    "AF_tot = pop_noSamps[mut_nd_idx, 2]/(2*(N_B+N_C)/scale)\n",
    "mut_nd = pop_noSamps[mut_nd_idx, 0]"
   ]
  },
  {
   "cell_type": "code",
   "execution_count": null,
   "metadata": {},
   "outputs": [],
   "source": [
    "AF_thr, AF_init"
   ]
  },
  {
   "cell_type": "code",
   "execution_count": null,
   "metadata": {},
   "outputs": [],
   "source": [
    "print(\"Mutation @ node:\", ts_init.node(mut_nd))\n",
    "print(pop_noSamps[mut_nd_idx])"
   ]
  },
  {
   "cell_type": "code",
   "execution_count": null,
   "metadata": {},
   "outputs": [],
   "source": [
    "init_tables = ts_init.dump_tables()\n",
    "init_tables.sites.add_row(position=sim_len/2, ancestral_state=\"A\")\n",
    "init_tables.mutations.add_row(site=0, node=mut_nd, derived_state=\"T\", time=int(np.ceil(ts_init.node(mut_nd).time)))"
   ]
  },
  {
   "cell_type": "code",
   "execution_count": null,
   "metadata": {},
   "outputs": [],
   "source": [
    "ts = init_tables.tree_sequence() # ts with mutation overlaid"
   ]
  },
  {
   "cell_type": "code",
   "execution_count": null,
   "metadata": {},
   "outputs": [],
   "source": [
    "ts"
   ]
  },
  {
   "cell_type": "code",
   "execution_count": null,
   "metadata": {},
   "outputs": [],
   "source": [
    "print(f\"Max roots: {max(t.num_roots for t in ts.trees())}\")"
   ]
  },
  {
   "cell_type": "code",
   "execution_count": null,
   "metadata": {},
   "outputs": [],
   "source": [
    "print(len(ts.samples()), len(ts.samples(population=0)), len(ts.samples(population=1)), len(ts.samples(population=2)))"
   ]
  },
  {
   "cell_type": "code",
   "execution_count": null,
   "metadata": {},
   "outputs": [],
   "source": [
    "ts.samples(population=1)"
   ]
  },
  {
   "cell_type": "code",
   "execution_count": null,
   "metadata": {},
   "outputs": [],
   "source": [
    "keep_nodes = np.random.choice(ts.samples(population=1), 2*N, replace=False)"
   ]
  },
  {
   "cell_type": "code",
   "execution_count": null,
   "metadata": {},
   "outputs": [],
   "source": [
    "keep_nodes.shape"
   ]
  },
  {
   "cell_type": "code",
   "execution_count": null,
   "metadata": {},
   "outputs": [],
   "source": [
    "sts = ts.simplify(keep_nodes)"
   ]
  },
  {
   "cell_type": "code",
   "execution_count": null,
   "metadata": {},
   "outputs": [],
   "source": [
    "print(f\"Simplify: {ts.num_samples}/{ts.num_individuals} -> {sts.num_samples}/{sts.num_individuals}\")"
   ]
  },
  {
   "cell_type": "code",
   "execution_count": null,
   "metadata": {},
   "outputs": [],
   "source": [
    "print(f\"Region_len:{sim_len}\\tAF (C, B, tot):{AF_init}/{AF_B}/{AF_tot}\")"
   ]
  },
  {
   "cell_type": "code",
   "execution_count": 25,
   "metadata": {},
   "outputs": [],
   "source": [
    "sim_len = 1e5\n",
    "sts = tskit.load(\"test0_samp.trees\")"
   ]
  },
  {
   "cell_type": "code",
   "execution_count": 26,
   "metadata": {},
   "outputs": [
    {
     "data": {
      "text/plain": [
       "0.6875"
      ]
     },
     "execution_count": 26,
     "metadata": {},
     "output_type": "execute_result"
    }
   ],
   "source": [
    "sts.genotype_matrix().mean()"
   ]
  },
  {
   "cell_type": "code",
   "execution_count": 27,
   "metadata": {},
   "outputs": [
    {
     "data": {
      "image/svg+xml": [
       "<svg xmlns=\"http://www.w3.org/2000/svg\" xmlns:xlink=\"http://www.w3.org/1999/xlink\" xmlns:ev=\"http://www.w3.org/2001/xml-events\" width=\"500\" height=\"500\" baseProfile=\"full\" version=\"1.1\"><defs><style type=\"text/css\"><![CDATA[.background path {fill: #808080; fill-opacity: 0}.background path:nth-child(odd) {fill-opacity: .1}.axes {font-size: 14px}.x-axis .tick .lab {font-weight: bold; dominant-baseline: hanging}.axes, .tree {font-size: 14px; text-anchor: middle}.axes line, .edge {stroke: black; fill: none}.y-axis .grid {stroke: #FAFAFA}.node > .sym {fill: black; stroke: none}.site > .sym {stroke: black}.mut text {fill: red; font-style: italic}.mut.extra text {fill: hotpink}.mut line {fill: none; stroke: none}.mut .sym {fill: none; stroke: red}.mut.extra .sym {stroke: hotpink}.node .mut .sym {stroke-width: 1.5px}.tree text, .tree-sequence text {dominant-baseline: central}.plotbox .lab.lft {text-anchor: end}.plotbox .lab.rgt {text-anchor: start}]]></style></defs><g class=\"tree t129\"><g class=\"axes\"><g class=\"y-axis\"><g transform=\"translate(0 239.1)\"><text class=\"lab\" text-anchor=\"middle\" transform=\"translate(11) rotate(-90)\">Time</text></g><line x1=\"56.8\" y1=\"468.2\" x2=\"56.8\" y2=\"10\"/><g class=\"ticks\"><g class=\"tick\" transform=\"translate(56.8 26.8)\"><line class=\"grid\" x1=\"0\" y1=\"0\" x2=\"423.2\" y2=\"0\"/><line x1=\"0\" y1=\"0\" x2=\"-5\" y2=\"0\"/><g transform=\"translate(-6 0)\"><text class=\"lab\" text-anchor=\"end\">34862.44</text></g></g><g class=\"tick\" transform=\"translate(56.8 171.843)\"><line class=\"grid\" x1=\"0\" y1=\"0\" x2=\"423.2\" y2=\"0\"/><line x1=\"0\" y1=\"0\" x2=\"-5\" y2=\"0\"/><g transform=\"translate(-6 0)\"><text class=\"lab\" text-anchor=\"end\">23406.70</text></g></g><g class=\"tick\" transform=\"translate(56.8 402.319)\"><line class=\"grid\" x1=\"0\" y1=\"0\" x2=\"423.2\" y2=\"0\"/><line x1=\"0\" y1=\"0\" x2=\"-5\" y2=\"0\"/><g transform=\"translate(-6 0)\"><text class=\"lab\" text-anchor=\"end\">5203.37</text></g></g><g class=\"tick\" transform=\"translate(56.8 464.234)\"><line class=\"grid\" x1=\"0\" y1=\"0\" x2=\"423.2\" y2=\"0\"/><line x1=\"0\" y1=\"0\" x2=\"-5\" y2=\"0\"/><g transform=\"translate(-6 0)\"><text class=\"lab\" text-anchor=\"end\">313.22</text></g></g><g class=\"tick\" transform=\"translate(56.8 468.2)\"><line class=\"grid\" x1=\"0\" y1=\"0\" x2=\"423.2\" y2=\"0\"/><line x1=\"0\" y1=\"0\" x2=\"-5\" y2=\"0\"/><g transform=\"translate(-6 0)\"><text class=\"lab\" text-anchor=\"end\">0.00</text></g></g><g class=\"tick\" transform=\"translate(56.8 467.701)\"><line class=\"grid\" x1=\"0\" y1=\"0\" x2=\"423.2\" y2=\"0\"/><line x1=\"0\" y1=\"0\" x2=\"-5\" y2=\"0\"/><g transform=\"translate(-6 0)\"><text class=\"lab\" text-anchor=\"end\">39.43</text></g></g><g class=\"tick\" transform=\"translate(56.8 459.132)\"><line class=\"grid\" x1=\"0\" y1=\"0\" x2=\"423.2\" y2=\"0\"/><line x1=\"0\" y1=\"0\" x2=\"-5\" y2=\"0\"/><g transform=\"translate(-6 0)\"><text class=\"lab\" text-anchor=\"end\">716.18</text></g></g><g class=\"tick\" transform=\"translate(56.8 236.81)\"><line class=\"grid\" x1=\"0\" y1=\"0\" x2=\"423.2\" y2=\"0\"/><line x1=\"0\" y1=\"0\" x2=\"-5\" y2=\"0\"/><g transform=\"translate(-6 0)\"><text class=\"lab\" text-anchor=\"end\">18275.54</text></g></g><g class=\"tick\" transform=\"translate(56.8 450.198)\"><line class=\"grid\" x1=\"0\" y1=\"0\" x2=\"423.2\" y2=\"0\"/><line x1=\"0\" y1=\"0\" x2=\"-5\" y2=\"0\"/><g transform=\"translate(-6 0)\"><text class=\"lab\" text-anchor=\"end\">1421.84</text></g></g><g class=\"tick\" transform=\"translate(56.8 455.799)\"><line class=\"grid\" x1=\"0\" y1=\"0\" x2=\"423.2\" y2=\"0\"/><line x1=\"0\" y1=\"0\" x2=\"-5\" y2=\"0\"/><g transform=\"translate(-6 0)\"><text class=\"lab\" text-anchor=\"end\">979.43</text></g></g><g class=\"tick\" transform=\"translate(56.8 465.113)\"><line class=\"grid\" x1=\"0\" y1=\"0\" x2=\"423.2\" y2=\"0\"/><line x1=\"0\" y1=\"0\" x2=\"-5\" y2=\"0\"/><g transform=\"translate(-6 0)\"><text class=\"lab\" text-anchor=\"end\">243.78</text></g></g><g class=\"tick\" transform=\"translate(56.8 167.818)\"><line class=\"grid\" x1=\"0\" y1=\"0\" x2=\"423.2\" y2=\"0\"/><line x1=\"0\" y1=\"0\" x2=\"-5\" y2=\"0\"/><g transform=\"translate(-6 0)\"><text class=\"lab\" text-anchor=\"end\">23724.67</text></g></g><g class=\"tick\" transform=\"translate(56.8 232.977)\"><line class=\"grid\" x1=\"0\" y1=\"0\" x2=\"423.2\" y2=\"0\"/><line x1=\"0\" y1=\"0\" x2=\"-5\" y2=\"0\"/><g transform=\"translate(-6 0)\"><text class=\"lab\" text-anchor=\"end\">18578.25</text></g></g><g class=\"tick\" transform=\"translate(56.8 240.717)\"><line class=\"grid\" x1=\"0\" y1=\"0\" x2=\"423.2\" y2=\"0\"/><line x1=\"0\" y1=\"0\" x2=\"-5\" y2=\"0\"/><g transform=\"translate(-6 0)\"><text class=\"lab\" text-anchor=\"end\">17966.92</text></g></g><g class=\"tick\" transform=\"translate(56.8 324.768)\"><line class=\"grid\" x1=\"0\" y1=\"0\" x2=\"423.2\" y2=\"0\"/><line x1=\"0\" y1=\"0\" x2=\"-5\" y2=\"0\"/><g transform=\"translate(-6 0)\"><text class=\"lab\" text-anchor=\"end\">11328.49</text></g></g><g class=\"tick\" transform=\"translate(56.8 463.072)\"><line class=\"grid\" x1=\"0\" y1=\"0\" x2=\"423.2\" y2=\"0\"/><line x1=\"0\" y1=\"0\" x2=\"-5\" y2=\"0\"/><g transform=\"translate(-6 0)\"><text class=\"lab\" text-anchor=\"end\">405.03</text></g></g><g class=\"tick\" transform=\"translate(56.8 358.978)\"><line class=\"grid\" x1=\"0\" y1=\"0\" x2=\"423.2\" y2=\"0\"/><line x1=\"0\" y1=\"0\" x2=\"-5\" y2=\"0\"/><g transform=\"translate(-6 0)\"><text class=\"lab\" text-anchor=\"end\">8626.48</text></g></g><g class=\"tick\" transform=\"translate(56.8 403.461)\"><line class=\"grid\" x1=\"0\" y1=\"0\" x2=\"423.2\" y2=\"0\"/><line x1=\"0\" y1=\"0\" x2=\"-5\" y2=\"0\"/><g transform=\"translate(-6 0)\"><text class=\"lab\" text-anchor=\"end\">5113.20</text></g></g><g class=\"tick\" transform=\"translate(56.8 468.11)\"><line class=\"grid\" x1=\"0\" y1=\"0\" x2=\"423.2\" y2=\"0\"/><line x1=\"0\" y1=\"0\" x2=\"-5\" y2=\"0\"/><g transform=\"translate(-6 0)\"><text class=\"lab\" text-anchor=\"end\">7.07</text></g></g><g class=\"tick\" transform=\"translate(56.8 465.443)\"><line class=\"grid\" x1=\"0\" y1=\"0\" x2=\"423.2\" y2=\"0\"/><line x1=\"0\" y1=\"0\" x2=\"-5\" y2=\"0\"/><g transform=\"translate(-6 0)\"><text class=\"lab\" text-anchor=\"end\">217.76</text></g></g><g class=\"tick\" transform=\"translate(56.8 280.764)\"><line class=\"grid\" x1=\"0\" y1=\"0\" x2=\"423.2\" y2=\"0\"/><line x1=\"0\" y1=\"0\" x2=\"-5\" y2=\"0\"/><g transform=\"translate(-6 0)\"><text class=\"lab\" text-anchor=\"end\">14803.96</text></g></g><g class=\"tick\" transform=\"translate(56.8 411.291)\"><line class=\"grid\" x1=\"0\" y1=\"0\" x2=\"423.2\" y2=\"0\"/><line x1=\"0\" y1=\"0\" x2=\"-5\" y2=\"0\"/><g transform=\"translate(-6 0)\"><text class=\"lab\" text-anchor=\"end\">4494.73</text></g></g><g class=\"tick\" transform=\"translate(56.8 459.695)\"><line class=\"grid\" x1=\"0\" y1=\"0\" x2=\"423.2\" y2=\"0\"/><line x1=\"0\" y1=\"0\" x2=\"-5\" y2=\"0\"/><g transform=\"translate(-6 0)\"><text class=\"lab\" text-anchor=\"end\">671.71</text></g></g><g class=\"tick\" transform=\"translate(56.8 402.11)\"><line class=\"grid\" x1=\"0\" y1=\"0\" x2=\"423.2\" y2=\"0\"/><line x1=\"0\" y1=\"0\" x2=\"-5\" y2=\"0\"/><g transform=\"translate(-6 0)\"><text class=\"lab\" text-anchor=\"end\">5219.91</text></g></g><g class=\"tick\" transform=\"translate(56.8 449.244)\"><line class=\"grid\" x1=\"0\" y1=\"0\" x2=\"423.2\" y2=\"0\"/><line x1=\"0\" y1=\"0\" x2=\"-5\" y2=\"0\"/><g transform=\"translate(-6 0)\"><text class=\"lab\" text-anchor=\"end\">1497.14</text></g></g><g class=\"tick\" transform=\"translate(56.8 464.323)\"><line class=\"grid\" x1=\"0\" y1=\"0\" x2=\"423.2\" y2=\"0\"/><line x1=\"0\" y1=\"0\" x2=\"-5\" y2=\"0\"/><g transform=\"translate(-6 0)\"><text class=\"lab\" text-anchor=\"end\">306.21</text></g></g><g class=\"tick\" transform=\"translate(56.8 428.597)\"><line class=\"grid\" x1=\"0\" y1=\"0\" x2=\"423.2\" y2=\"0\"/><line x1=\"0\" y1=\"0\" x2=\"-5\" y2=\"0\"/><g transform=\"translate(-6 0)\"><text class=\"lab\" text-anchor=\"end\">3127.90</text></g></g><g class=\"tick\" transform=\"translate(56.8 460.985)\"><line class=\"grid\" x1=\"0\" y1=\"0\" x2=\"423.2\" y2=\"0\"/><line x1=\"0\" y1=\"0\" x2=\"-5\" y2=\"0\"/><g transform=\"translate(-6 0)\"><text class=\"lab\" text-anchor=\"end\">569.81</text></g></g><g class=\"tick\" transform=\"translate(56.8 464.943)\"><line class=\"grid\" x1=\"0\" y1=\"0\" x2=\"423.2\" y2=\"0\"/><line x1=\"0\" y1=\"0\" x2=\"-5\" y2=\"0\"/><g transform=\"translate(-6 0)\"><text class=\"lab\" text-anchor=\"end\">257.24</text></g></g><g class=\"tick\" transform=\"translate(56.8 453.169)\"><line class=\"grid\" x1=\"0\" y1=\"0\" x2=\"423.2\" y2=\"0\"/><line x1=\"0\" y1=\"0\" x2=\"-5\" y2=\"0\"/><g transform=\"translate(-6 0)\"><text class=\"lab\" text-anchor=\"end\">1187.14</text></g></g><g class=\"tick\" transform=\"translate(56.8 466.686)\"><line class=\"grid\" x1=\"0\" y1=\"0\" x2=\"423.2\" y2=\"0\"/><line x1=\"0\" y1=\"0\" x2=\"-5\" y2=\"0\"/><g transform=\"translate(-6 0)\"><text class=\"lab\" text-anchor=\"end\">119.62</text></g></g><g class=\"tick\" transform=\"translate(56.8 454.602)\"><line class=\"grid\" x1=\"0\" y1=\"0\" x2=\"423.2\" y2=\"0\"/><line x1=\"0\" y1=\"0\" x2=\"-5\" y2=\"0\"/><g transform=\"translate(-6 0)\"><text class=\"lab\" text-anchor=\"end\">1073.95</text></g></g></g></g></g><g class=\"plotbox\"><g class=\"c2 node n209 p1 root\" transform=\"translate(222.216 26.8)\"><g class=\"a209 c2 node n183 p1\" transform=\"translate(-97.2244 145.043)\"><g class=\"a183 c2 node n89 p1\" transform=\"translate(29.343 230.476)\"><g class=\"a89 c2 node n40 p0\" transform=\"translate(18.1844 61.915)\"><g class=\"a40 i15 leaf node n29 p0 sample\" transform=\"translate(9.91875 3.96578)\"><path class=\"edge\" d=\"M 0 0 V -3.96578 H -9.91875\"/><rect class=\"sym\" x=\"-3\" y=\"-3\" width=\"6\" height=\"6\"/><text class=\"lab\" transform=\"translate(0 11)\">29</text></g><g class=\"a40 c2 node n33 p0\" transform=\"translate(-9.91875 3.46651)\"><g class=\"a33 i19 leaf node n13 p0 sample\" transform=\"translate(-6.6125 0.499271)\"><path class=\"edge\" d=\"M 0 0 V -0.499271 H 6.6125\"/><rect class=\"sym\" x=\"-3\" y=\"-3\" width=\"6\" height=\"6\"/><text class=\"lab\" transform=\"translate(0 11)\">13</text></g><g class=\"a33 i2 leaf node n23 p0 sample\" transform=\"translate(6.6125 0.499271)\"><path class=\"edge\" d=\"M 0 0 V -0.499271 H -6.6125\"/><rect class=\"sym\" x=\"-3\" y=\"-3\" width=\"6\" height=\"6\"/><text class=\"lab\" transform=\"translate(0 11)\">23</text></g><path class=\"edge\" d=\"M 0 0 V -3.46651 H 9.91875\"/><circle class=\"sym\" cx=\"0\" cy=\"0\" r=\"3\"/><text class=\"lab lft\" transform=\"translate(-3 -7.0)\">33</text></g><path class=\"edge\" d=\"M 0 0 V -61.915 H -18.1844\"/><circle class=\"sym\" cx=\"0\" cy=\"0\" r=\"3\"/><text class=\"lab rgt\" transform=\"translate(3 -7.0)\">40</text></g><g class=\"a89 c2 node n49 p0\" transform=\"translate(-18.1844 56.8131)\"><g class=\"a49 i8 leaf node n5 p0 sample\" transform=\"translate(-6.6125 9.0677)\"><path class=\"edge\" d=\"M 0 0 V -9.0677 H 6.6125\"/><rect class=\"sym\" x=\"-3\" y=\"-3\" width=\"6\" height=\"6\"/><text class=\"lab\" transform=\"translate(0 11)\">5</text></g><g class=\"a49 i28 leaf node n24 p0 sample\" transform=\"translate(6.6125 9.0677)\"><path class=\"edge\" d=\"M 0 0 V -9.0677 H -6.6125\"/><rect class=\"sym\" x=\"-3\" y=\"-3\" width=\"6\" height=\"6\"/><text class=\"lab\" transform=\"translate(0 11)\">24</text></g><path class=\"edge\" d=\"M 0 0 V -56.8131 H 18.1844\"/><circle class=\"sym\" cx=\"0\" cy=\"0\" r=\"3\"/><text class=\"lab lft\" transform=\"translate(-3 -7.0)\">49</text></g><path class=\"edge\" d=\"M 0 0 V -230.476 H -29.343\"/><circle class=\"sym\" cx=\"0\" cy=\"0\" r=\"3\"/><text class=\"lab rgt\" transform=\"translate(3 -7.0)\">89</text></g><g class=\"a183 c2 node n161 p1\" transform=\"translate(-29.343 64.9666)\"><g class=\"a161 i5 leaf node n22 p0 sample\" transform=\"translate(20.6641 231.39)\"><path class=\"edge\" d=\"M 0 0 V -231.39 H -20.6641\"/><rect class=\"sym\" x=\"-3\" y=\"-3\" width=\"6\" height=\"6\"/><text class=\"lab\" transform=\"translate(0 11)\">22</text></g><g class=\"a161 c2 node n59 p1\" transform=\"translate(-20.6641 213.388)\"><g class=\"a59 i26 leaf node n0 p0 sample\" transform=\"translate(-11.5719 18.0022)\"><path class=\"edge\" d=\"M 0 0 V -18.0022 H 11.5719\"/><rect class=\"sym\" x=\"-3\" y=\"-3\" width=\"6\" height=\"6\"/><text class=\"lab\" transform=\"translate(0 11)\">0</text></g><g class=\"a59 c2 node n53 p1\" transform=\"translate(11.5719 5.60143)\"><g class=\"a53 i22 leaf node n12 p0 sample\" transform=\"translate(-9.91875 12.4008)\"><path class=\"edge\" d=\"M 0 0 V -12.4008 H 9.91875\"/><rect class=\"sym\" x=\"-3\" y=\"-3\" width=\"6\" height=\"6\"/><text class=\"lab\" transform=\"translate(0 11)\">12</text></g><g class=\"a53 c2 node n37 p0\" transform=\"translate(9.91875 9.3142)\"><g class=\"a37 i1 leaf node n17 p0 sample\" transform=\"translate(-6.6125 3.08659)\"><path class=\"edge\" d=\"M 0 0 V -3.08659 H 6.6125\"/><rect class=\"sym\" x=\"-3\" y=\"-3\" width=\"6\" height=\"6\"/><text class=\"lab\" transform=\"translate(0 11)\">17</text></g><g class=\"a37 i4 leaf node n31 p0 sample\" transform=\"translate(6.6125 3.08659)\"><path class=\"edge\" d=\"M 0 0 V -3.08659 H -6.6125\"/><rect class=\"sym\" x=\"-3\" y=\"-3\" width=\"6\" height=\"6\"/><text class=\"lab\" transform=\"translate(0 11)\">31</text></g><path class=\"edge\" d=\"M 0 0 V -9.3142 H -9.91875\"/><circle class=\"sym\" cx=\"0\" cy=\"0\" r=\"3\"/><text class=\"lab rgt\" transform=\"translate(3 -7.0)\">37</text></g><path class=\"edge\" d=\"M 0 0 V -5.60143 H -11.5719\"/><circle class=\"sym\" cx=\"0\" cy=\"0\" r=\"3\"/><text class=\"lab rgt\" transform=\"translate(3 -7.0)\">53</text></g><path class=\"edge\" d=\"M 0 0 V -213.388 H 20.6641\"/><circle class=\"sym\" cx=\"0\" cy=\"0\" r=\"3\"/><text class=\"lab lft\" transform=\"translate(-3 -7.0)\">59</text></g><path class=\"edge\" d=\"M 0 0 V -64.9666 H 29.343\"/><circle class=\"sym\" cx=\"0\" cy=\"0\" r=\"3\"/><text class=\"lab lft\" transform=\"translate(-3 -7.0)\">161</text></g><path class=\"edge\" d=\"M 0 0 V -145.043 H 97.2244\"/><circle class=\"sym\" cx=\"0\" cy=\"0\" r=\"3\"/><text class=\"lab lft\" transform=\"translate(-3 -7.0)\">183</text></g><g class=\"a209 c2 m0 node n185 p1 s0\" transform=\"translate(97.2244 141.018)\"><g class=\"a185 c2 node n164 p1\" transform=\"translate(-82.0363 65.1598)\"><g class=\"a164 c2 node n156 p1\" transform=\"translate(30.1695 7.74015)\"><g class=\"a156 c2 node n124 p1\" transform=\"translate(19.0109 84.0504)\"><g class=\"a124 c2 node n41 p0\" transform=\"translate(-18.1844 138.304)\"><g class=\"a41 i29 leaf node n10 p0 sample\" transform=\"translate(-6.6125 5.12813)\"><path class=\"edge\" d=\"M 0 0 V -5.12813 H 6.6125\"/><rect class=\"sym\" x=\"-3\" y=\"-3\" width=\"6\" height=\"6\"/><text class=\"lab\" transform=\"translate(0 11)\">10</text></g><g class=\"a41 i30 leaf node n27 p0 sample\" transform=\"translate(6.6125 5.12813)\"><path class=\"edge\" d=\"M 0 0 V -5.12813 H -6.6125\"/><rect class=\"sym\" x=\"-3\" y=\"-3\" width=\"6\" height=\"6\"/><text class=\"lab\" transform=\"translate(0 11)\">27</text></g><path class=\"edge\" d=\"M 0 0 V -138.304 H 18.1844\"/><circle class=\"sym\" cx=\"0\" cy=\"0\" r=\"3\"/><text class=\"lab lft\" transform=\"translate(-3 -7.0)\">41</text></g><g class=\"a124 c2 node n107 p1\" transform=\"translate(18.1844 34.2106)\"><g class=\"a107 i7 leaf node n11 p0 sample\" transform=\"translate(-16.5312 109.222)\"><path class=\"edge\" d=\"M 0 0 V -109.222 H 16.5312\"/><rect class=\"sym\" x=\"-3\" y=\"-3\" width=\"6\" height=\"6\"/><text class=\"lab\" transform=\"translate(0 11)\">11</text></g><g class=\"a107 c2 node n88 p1\" transform=\"translate(16.5313 44.4824)\"><g class=\"a88 c2 node n32 p0\" transform=\"translate(-13.225 64.6496)\"><g class=\"a32 i31 leaf node n19 p0 sample\" transform=\"translate(-6.6125 0.0895281)\"><path class=\"edge\" d=\"M 0 0 V -0.0895281 H 6.6125\"/><rect class=\"sym\" x=\"-3\" y=\"-3\" width=\"6\" height=\"6\"/><text class=\"lab\" transform=\"translate(0 11)\">19</text></g><g class=\"a32 i9 leaf node n26 p0 sample\" transform=\"translate(6.6125 0.0895281)\"><path class=\"edge\" d=\"M 0 0 V -0.0895281 H -6.6125\"/><rect class=\"sym\" x=\"-3\" y=\"-3\" width=\"6\" height=\"6\"/><text class=\"lab\" transform=\"translate(0 11)\">26</text></g><path class=\"edge\" d=\"M 0 0 V -64.6496 H 13.225\"/><circle class=\"sym\" cx=\"0\" cy=\"0\" r=\"3\"/><text class=\"lab lft\" transform=\"translate(-3 -7.0)\">32</text></g><g class=\"a88 c2 node n35 p0\" transform=\"translate(13.225 61.982)\"><g class=\"a35 i27 leaf node n20 p0 sample\" transform=\"translate(-6.6125 2.75714)\"><path class=\"edge\" d=\"M 0 0 V -2.75714 H 6.6125\"/><rect class=\"sym\" x=\"-3\" y=\"-3\" width=\"6\" height=\"6\"/><text class=\"lab\" transform=\"translate(0 11)\">20</text></g><g class=\"a35 i12 leaf node n25 p0 sample\" transform=\"translate(6.6125 2.75714)\"><path class=\"edge\" d=\"M 0 0 V -2.75714 H -6.6125\"/><rect class=\"sym\" x=\"-3\" y=\"-3\" width=\"6\" height=\"6\"/><text class=\"lab\" transform=\"translate(0 11)\">25</text></g><path class=\"edge\" d=\"M 0 0 V -61.982 H -13.225\"/><circle class=\"sym\" cx=\"0\" cy=\"0\" r=\"3\"/><text class=\"lab rgt\" transform=\"translate(3 -7.0)\">35</text></g><path class=\"edge\" d=\"M 0 0 V -44.4824 H -16.5313\"/><circle class=\"sym\" cx=\"0\" cy=\"0\" r=\"3\"/><text class=\"lab rgt\" transform=\"translate(3 -7.0)\">88</text></g><path class=\"edge\" d=\"M 0 0 V -34.2106 H -18.1844\"/><circle class=\"sym\" cx=\"0\" cy=\"0\" r=\"3\"/><text class=\"lab rgt\" transform=\"translate(3 -7.0)\">107</text></g><path class=\"edge\" d=\"M 0 0 V -84.0504 H -19.0109\"/><circle class=\"sym\" cx=\"0\" cy=\"0\" r=\"3\"/><text class=\"lab rgt\" transform=\"translate(3 -7.0)\">124</text></g><g class=\"a156 i25 leaf node n9 p0 sample\" transform=\"translate(-19.0109 227.483)\"><path class=\"edge\" d=\"M 0 0 V -227.483 H 19.0109\"/><rect class=\"sym\" x=\"-3\" y=\"-3\" width=\"6\" height=\"6\"/><text class=\"lab\" transform=\"translate(0 11)\">9</text></g><path class=\"edge\" d=\"M 0 0 V -7.74015 H -30.1695\"/><circle class=\"sym\" cx=\"0\" cy=\"0\" r=\"3\"/><text class=\"lab rgt\" transform=\"translate(3 -7.0)\">156</text></g><g class=\"a164 c2 node n143 p1\" transform=\"translate(-30.1695 47.787)\"><g class=\"a143 i24 leaf node n1 p0 sample\" transform=\"translate(-11.5719 187.436)\"><path class=\"edge\" d=\"M 0 0 V -187.436 H 11.5719\"/><rect class=\"sym\" x=\"-3\" y=\"-3\" width=\"6\" height=\"6\"/><text class=\"lab\" transform=\"translate(0 11)\">1</text></g><g class=\"a143 c2 node n83 p1\" transform=\"translate(11.5719 130.527)\"><g class=\"a83 i0 leaf node n7 p0 sample\" transform=\"translate(-9.91875 56.9086)\"><path class=\"edge\" d=\"M 0 0 V -56.9086 H 9.91875\"/><rect class=\"sym\" x=\"-3\" y=\"-3\" width=\"6\" height=\"6\"/><text class=\"lab\" transform=\"translate(0 11)\">7</text></g><g class=\"a83 c2 node n48 p0\" transform=\"translate(9.91875 48.4039)\"><g class=\"a48 i3 leaf node n14 p0 sample\" transform=\"translate(-6.6125 8.50468)\"><path class=\"edge\" d=\"M 0 0 V -8.50468 H 6.6125\"/><rect class=\"sym\" x=\"-3\" y=\"-3\" width=\"6\" height=\"6\"/><text class=\"lab\" transform=\"translate(0 11)\">14</text></g><g class=\"a48 i11 leaf node n21 p0 sample\" transform=\"translate(6.6125 8.50468)\"><path class=\"edge\" d=\"M 0 0 V -8.50468 H -6.6125\"/><rect class=\"sym\" x=\"-3\" y=\"-3\" width=\"6\" height=\"6\"/><text class=\"lab\" transform=\"translate(0 11)\">21</text></g><path class=\"edge\" d=\"M 0 0 V -48.4039 H -9.91875\"/><circle class=\"sym\" cx=\"0\" cy=\"0\" r=\"3\"/><text class=\"lab rgt\" transform=\"translate(3 -7.0)\">48</text></g><path class=\"edge\" d=\"M 0 0 V -130.527 H -11.5719\"/><circle class=\"sym\" cx=\"0\" cy=\"0\" r=\"3\"/><text class=\"lab rgt\" transform=\"translate(3 -7.0)\">83</text></g><path class=\"edge\" d=\"M 0 0 V -47.787 H 30.1695\"/><circle class=\"sym\" cx=\"0\" cy=\"0\" r=\"3\"/><text class=\"lab lft\" transform=\"translate(-3 -7.0)\">143</text></g><path class=\"edge\" d=\"M 0 0 V -65.1598 H 82.0363\"/><circle class=\"sym\" cx=\"0\" cy=\"0\" r=\"3\"/><text class=\"lab lft\" transform=\"translate(-3 -7.0)\">164</text></g><g class=\"a185 c2 node n90 p1\" transform=\"translate(82.0363 234.292)\"><g class=\"a90 c2 node n60 p1\" transform=\"translate(-30.5828 47.1347)\"><g class=\"a60 i6 leaf node n6 p0 sample\" transform=\"translate(9.91875 18.9556)\"><path class=\"edge\" d=\"M 0 0 V -18.9556 H -9.91875\"/><rect class=\"sym\" x=\"-3\" y=\"-3\" width=\"6\" height=\"6\"/><text class=\"lab\" transform=\"translate(0 11)\">6</text></g><g class=\"a60 c2 node n39 p0\" transform=\"translate(-9.91875 15.0786)\"><g class=\"a39 i14 leaf node n2 p0 sample\" transform=\"translate(-6.6125 3.87699)\"><path class=\"edge\" d=\"M 0 0 V -3.87699 H 6.6125\"/><rect class=\"sym\" x=\"-3\" y=\"-3\" width=\"6\" height=\"6\"/><text class=\"lab\" transform=\"translate(0 11)\">2</text></g><g class=\"a39 i13 leaf node n15 p0 sample\" transform=\"translate(6.6125 3.87699)\"><path class=\"edge\" d=\"M 0 0 V -3.87699 H -6.6125\"/><rect class=\"sym\" x=\"-3\" y=\"-3\" width=\"6\" height=\"6\"/><text class=\"lab\" transform=\"translate(0 11)\">15</text></g><path class=\"edge\" d=\"M 0 0 V -15.0786 H 9.91875\"/><circle class=\"sym\" cx=\"0\" cy=\"0\" r=\"3\"/><text class=\"lab lft\" transform=\"translate(-3 -7.0)\">39</text></g><path class=\"edge\" d=\"M 0 0 V -47.1347 H 30.5828\"/><circle class=\"sym\" cx=\"0\" cy=\"0\" r=\"3\"/><text class=\"lab lft\" transform=\"translate(-3 -7.0)\">60</text></g><g class=\"a90 c2 node n75 p1\" transform=\"translate(30.5828 26.4874)\"><g class=\"a75 c2 node n44 p0\" transform=\"translate(-21.4906 32.3884)\"><g class=\"a44 i16 leaf node n18 p0 sample\" transform=\"translate(9.91875 7.21452)\"><path class=\"edge\" d=\"M 0 0 V -7.21452 H -9.91875\"/><rect class=\"sym\" x=\"-3\" y=\"-3\" width=\"6\" height=\"6\"/><text class=\"lab\" transform=\"translate(0 11)\">18</text></g><g class=\"a44 c2 node n38 p0\" transform=\"translate(-9.91875 3.95749)\"><g class=\"a38 i21 leaf node n3 p0 sample\" transform=\"translate(-6.6125 3.25703)\"><path class=\"edge\" d=\"M 0 0 V -3.25703 H 6.6125\"/><rect class=\"sym\" x=\"-3\" y=\"-3\" width=\"6\" height=\"6\"/><text class=\"lab\" transform=\"translate(0 11)\">3</text></g><g class=\"a38 i20 leaf node n30 p0 sample\" transform=\"translate(6.6125 3.25703)\"><path class=\"edge\" d=\"M 0 0 V -3.25703 H -6.6125\"/><rect class=\"sym\" x=\"-3\" y=\"-3\" width=\"6\" height=\"6\"/><text class=\"lab\" transform=\"translate(0 11)\">30</text></g><path class=\"edge\" d=\"M 0 0 V -3.95749 H 9.91875\"/><circle class=\"sym\" cx=\"0\" cy=\"0\" r=\"3\"/><text class=\"lab lft\" transform=\"translate(-3 -7.0)\">38</text></g><path class=\"edge\" d=\"M 0 0 V -32.3884 H 21.4906\"/><circle class=\"sym\" cx=\"0\" cy=\"0\" r=\"3\"/><text class=\"lab lft\" transform=\"translate(-3 -7.0)\">44</text></g><g class=\"a75 c2 node n57 p1\" transform=\"translate(21.4906 24.5723)\"><g class=\"a57 c2 node n34 p0\" transform=\"translate(13.225 13.5162)\"><g class=\"a34 i17 leaf node n8 p0 sample\" transform=\"translate(-6.6125 1.51447)\"><path class=\"edge\" d=\"M 0 0 V -1.51447 H 6.6125\"/><rect class=\"sym\" x=\"-3\" y=\"-3\" width=\"6\" height=\"6\"/><text class=\"lab\" transform=\"translate(0 11)\">8</text></g><g class=\"a34 i10 leaf node n16 p0 sample\" transform=\"translate(6.6125 1.51447)\"><path class=\"edge\" d=\"M 0 0 V -1.51447 H -6.6125\"/><rect class=\"sym\" x=\"-3\" y=\"-3\" width=\"6\" height=\"6\"/><text class=\"lab\" transform=\"translate(0 11)\">16</text></g><path class=\"edge\" d=\"M 0 0 V -13.5162 H -13.225\"/><circle class=\"sym\" cx=\"0\" cy=\"0\" r=\"3\"/><text class=\"lab rgt\" transform=\"translate(3 -7.0)\">34</text></g><g class=\"a57 c2 node n55 p1\" transform=\"translate(-13.225 1.4331)\"><g class=\"a55 i18 leaf node n28 p0 sample\" transform=\"translate(6.6125 13.5975)\"><path class=\"edge\" d=\"M 0 0 V -13.5975 H -6.6125\"/><rect class=\"sym\" x=\"-3\" y=\"-3\" width=\"6\" height=\"6\"/><text class=\"lab\" transform=\"translate(0 11)\">28</text></g><g class=\"a55 i23 leaf node n4 p0 sample\" transform=\"translate(-6.6125 13.5975)\"><path class=\"edge\" d=\"M 0 0 V -13.5975 H 6.6125\"/><rect class=\"sym\" x=\"-3\" y=\"-3\" width=\"6\" height=\"6\"/><text class=\"lab\" transform=\"translate(0 11)\">4</text></g><path class=\"edge\" d=\"M 0 0 V -1.4331 H 13.225\"/><circle class=\"sym\" cx=\"0\" cy=\"0\" r=\"3\"/><text class=\"lab lft\" transform=\"translate(-3 -7.0)\">55</text></g><path class=\"edge\" d=\"M 0 0 V -24.5723 H -21.4906\"/><circle class=\"sym\" cx=\"0\" cy=\"0\" r=\"3\"/><text class=\"lab rgt\" transform=\"translate(3 -7.0)\">57</text></g><path class=\"edge\" d=\"M 0 0 V -26.4874 H -30.5828\"/><circle class=\"sym\" cx=\"0\" cy=\"0\" r=\"3\"/><text class=\"lab rgt\" transform=\"translate(3 -7.0)\">75</text></g><path class=\"edge\" d=\"M 0 0 V -234.292 H -82.0363\"/><circle class=\"sym\" cx=\"0\" cy=\"0\" r=\"3\"/><text class=\"lab rgt\" transform=\"translate(3 -7.0)\">90</text></g><path class=\"edge\" d=\"M 0 0 V -141.018 H -97.2244\"/><g class=\"mut m0 s0\" transform=\"translate(0 -0.00423686)\"><line x1=\"0\" y1=\"0\" x2=\"0\" y2=\"0.00423686\"/><path class=\"sym\" d=\"M -3,-3 l 6,6 M -3,3 l 6,-6\"/><text class=\"lab rgt\" transform=\"translate(5 0)\">0</text></g><circle class=\"sym\" cx=\"0\" cy=\"0\" r=\"3\"/><text class=\"lab rgt\" transform=\"translate(3 -7.0)\">185</text></g><circle class=\"sym\" cx=\"0\" cy=\"0\" r=\"3\"/><text class=\"lab\" transform=\"translate(0 -11)\">209</text></g></g></g></svg>"
      ],
      "text/plain": [
       "<IPython.core.display.SVG object>"
      ]
     },
     "execution_count": 27,
     "metadata": {},
     "output_type": "execute_result"
    }
   ],
   "source": [
    "SVG(sts.at(sim_len/2).draw_svg(\n",
    "    size=(500, 500),\n",
    "    y_gridlines=True,\n",
    "    y_axis=True,\n",
    "    #tree_height_scale=\"log_time\",\n",
    "    #node_labels={},    # Remove all node labels for a clearer viz\n",
    "    #style=css_string,  # Apply the stylesheet\n",
    "))"
   ]
  },
  {
   "cell_type": "code",
   "execution_count": 21,
   "metadata": {},
   "outputs": [
    {
     "data": {
      "text/plain": [
       "13135.1"
      ]
     },
     "execution_count": 21,
     "metadata": {},
     "output_type": "execute_result"
    }
   ],
   "source": [
    "13135.10\n"
   ]
  }
 ],
 "metadata": {
  "kernelspec": {
   "display_name": "msprime-env",
   "language": "python",
   "name": "python3"
  },
  "language_info": {
   "codemirror_mode": {
    "name": "ipython",
    "version": 3
   },
   "file_extension": ".py",
   "mimetype": "text/x-python",
   "name": "python",
   "nbconvert_exporter": "python",
   "pygments_lexer": "ipython3",
   "version": "3.9.16"
  }
 },
 "nbformat": 4,
 "nbformat_minor": 4
}
