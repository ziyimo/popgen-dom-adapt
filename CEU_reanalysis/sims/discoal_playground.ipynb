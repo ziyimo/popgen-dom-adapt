{
 "cells": [
  {
   "cell_type": "code",
   "execution_count": 1,
   "metadata": {},
   "outputs": [],
   "source": [
    "import numpy as np\n",
    "import matplotlib.pyplot as plt"
   ]
  },
  {
   "cell_type": "markdown",
   "metadata": {},
   "source": [
    "#### Plot demography"
   ]
  },
  {
   "cell_type": "code",
   "execution_count": 4,
   "metadata": {},
   "outputs": [],
   "source": [
    "N0 = 188088"
   ]
  },
  {
   "cell_type": "code",
   "execution_count": 2,
   "metadata": {},
   "outputs": [],
   "source": [
    "with open(\"discoal_CEU.txt\", \"r\") as dem:\n",
    "    arg_ls = dem.readline().strip().split()"
   ]
  },
  {
   "cell_type": "code",
   "execution_count": 5,
   "metadata": {},
   "outputs": [],
   "source": [
    "times = np.array(arg_ls[1::4], dtype=float)*4*N0\n",
    "sizes = np.array(arg_ls[3::4], dtype=float)*N0"
   ]
  },
  {
   "cell_type": "code",
   "execution_count": 12,
   "metadata": {},
   "outputs": [],
   "source": [
    "dem = np.vstack(([0, N0], np.vstack((times.astype(int), sizes.astype(int))).T))"
   ]
  },
  {
   "cell_type": "code",
   "execution_count": 17,
   "metadata": {},
   "outputs": [
    {
     "data": {
      "image/png": "[encoded data removed]",
      "text/plain": [
       "<Figure size 432x288 with 1 Axes>"
      ]
     },
     "metadata": {
      "needs_background": "light"
     },
     "output_type": "display_data"
    }
   ],
   "source": [
    "plt.step(dem[:, 0], dem[:, 1], where=\"post\")\n",
    "plt.xscale(\"log\")\n",
    "plt.yscale(\"log\")"
   ]
  },
  {
   "cell_type": "code",
   "execution_count": 18,
   "metadata": {},
   "outputs": [
    {
     "data": {
      "text/plain": [
       "array([[     0, 188088],\n",
       "       [    90,  23382],\n",
       "       [   204,   8006],\n",
       "       [   300,   5930],\n",
       "       [   400,   4360],\n",
       "       [   500,   3205],\n",
       "       [   599,   2357],\n",
       "       [   699,   1733],\n",
       "       [   799,   1236],\n",
       "       [   920,   1860],\n",
       "       [   999,   1860],\n",
       "       [  1200,   1860],\n",
       "       [  1500,   1863],\n",
       "       [  2041,  14473],\n",
       "       [  2800,  14473],\n",
       "       [  3700,  14473],\n",
       "       [  4699,  14462],\n",
       "       [  5921,   7310],\n",
       "       [  6400,   7310],\n",
       "       [  6999,   7310],\n",
       "       [  7799,   7310],\n",
       "       [  8999,   7310],\n",
       "       [ 11000,   7310],\n",
       "       [ 13999,   7310],\n",
       "       [ 18000,   7310],\n",
       "       [ 24999,   7310],\n",
       "       [ 35000,   7310],\n",
       "       [ 49999,   7310],\n",
       "       [100000,   7310],\n",
       "       [300000,   7310]])"
      ]
     },
     "execution_count": 18,
     "metadata": {},
     "output_type": "execute_result"
    }
   ],
   "source": [
    "dem"
   ]
  },
  {
   "cell_type": "markdown",
   "metadata": {},
   "source": [
    "#### Read output"
   ]
  },
  {
   "cell_type": "code",
   "execution_count": 2,
   "metadata": {},
   "outputs": [],
   "source": [
    "import sys\n",
    "sys.path.append(\"../../DA-SIA/fea_encoding\")\n",
    "from utils import *"
   ]
  },
  {
   "cell_type": "code",
   "execution_count": 3,
   "metadata": {},
   "outputs": [],
   "source": [
    "from Bio import Phylo\n",
    "from io import StringIO"
   ]
  },
  {
   "cell_type": "code",
   "execution_count": 27,
   "metadata": {},
   "outputs": [
    {
     "name": "stderr",
     "output_type": "stream",
     "text": [
      "/tmp/ipykernel_151634/1191235292.py:31: DeprecationWarning: The binary mode of fromstring is deprecated, as it behaves surprisingly on unicode inputs. Use frombuffer instead\n",
      "  gtm = np.vstack((gtm, np.fromstring(line.strip(), dtype=np.int8) - ord(\"0\")))\n"
     ]
    }
   ],
   "source": [
    "soft_flag = False\n",
    "SAF = 0\n",
    "cat = 'neu'\n",
    "c_low, c_high = [0.1, 0.9]\n",
    "with open(\"/grid/siepel/home_norepl/mo/dom_adapt/1000GCEU_reanalysis/sample16.discoal\", \"r\") as discoalF:\n",
    "    read_GT = False\n",
    "    seek_onset = False # seek sweep onset\n",
    "    onset_gen = -1\n",
    "    for line in discoalF:\n",
    "        if line[:8] == \"segsites\":\n",
    "            segsites = int(line.strip().split()[1])\n",
    "            gtm = np.empty((0, segsites), dtype=np.int8)\n",
    "            continue\n",
    "        if line[:9] == \"positions\":\n",
    "            var_pos = np.array(line.strip().split()[1:], dtype=float)\n",
    "            read_GT = True\n",
    "            continue\n",
    "        if line[:4] == \"Freq\":\n",
    "            seek_onset = True\n",
    "            continue\n",
    "        if seek_onset:\n",
    "            gbp_der_anc = line.strip().split()\n",
    "            if len(gbp_der_anc) == 3:\n",
    "                onset_gen = float(gbp_der_anc[0]) # in coalc. unit\n",
    "                if soft_flag and float(gbp_der_anc[1]) < SAF: # 1st time point going backward\n",
    "                    seek_onset = False\n",
    "            elif onset_gen != -1:\n",
    "                seek_onset = False\n",
    "            continue\n",
    "        if read_GT:\n",
    "            gtm = np.vstack((gtm, np.fromstring(line.strip(), dtype=np.int8) - ord(\"0\")))\n",
    "\n",
    "gtm = np.transpose(gtm)\n",
    "if cat == 'neu':\n",
    "    samp_idx = samp_var(gtm, var_pos, c_low, c_high, 0.1, 0.9) # IMPORTANT: match fea extraction window!\n",
    "    foc_var_pos = var_pos[samp_idx]\n",
    "    #foc_var_gt = gtm[samp_idx]\n",
    "    CAF = np.mean(gtm[samp_idx])\n",
    "\n",
    "elif cat == 'swp':\n",
    "    foc_var_pos = 0.5\n",
    "    #foc_var_gt = gtm[var_pos == 0.5].flatten()\n",
    "\n",
    "#feaMtx = inf_fea(var_pos, gtm, foc_var_gt, foc_var_pos, str(2*10000), \"2.5e-8\", 1.25)"
   ]
  },
  {
   "cell_type": "code",
   "execution_count": 28,
   "metadata": {},
   "outputs": [],
   "source": [
    "vOI_gt = gtm[var_pos == foc_var_pos].flatten()"
   ]
  },
  {
   "cell_type": "code",
   "execution_count": 29,
   "metadata": {},
   "outputs": [
    {
     "data": {
      "text/plain": [
       "array([0, 0, 0, 1, 1, 0, 1, 0, 1, 1, 0, 1, 0, 0, 1, 1], dtype=int8)"
      ]
     },
     "execution_count": 29,
     "metadata": {},
     "output_type": "execute_result"
    }
   ],
   "source": [
    "vOI_gt"
   ]
  },
  {
   "cell_type": "code",
   "execution_count": 30,
   "metadata": {},
   "outputs": [],
   "source": [
    "tar_pos = 10000*foc_var_pos\n",
    "left = 0\n",
    "\n",
    "with open(\"/grid/siepel/home_norepl/mo/dom_adapt/1000GCEU_reanalysis/sample16.discoal\", \"r\") as discoalF:\n",
    "\n",
    "    for line in discoalF:\n",
    "        if line[0] == \"[\":\n",
    "            intvl, nwk_str = line.strip().split(\"]\")\n",
    "            intvl = int(intvl[1:])\n",
    "            if left + intvl > tar_pos: # not sure if 0- or 1- based coordinates\n",
    "                break\n",
    "            left += intvl"
   ]
  },
  {
   "cell_type": "code",
   "execution_count": 31,
   "metadata": {},
   "outputs": [
    {
     "data": {
      "text/plain": [
       "['3', '4', '6', '8', '9', '11', '14', '15']"
      ]
     },
     "execution_count": 31,
     "metadata": {},
     "output_type": "execute_result"
    }
   ],
   "source": [
    "list(map(str, np.nonzero(vOI_gt)[0]))"
   ]
  },
  {
   "cell_type": "code",
   "execution_count": 32,
   "metadata": {},
   "outputs": [],
   "source": [
    "tr = Phylo.read(StringIO(nwk_str), \"newick\")"
   ]
  },
  {
   "cell_type": "code",
   "execution_count": 33,
   "metadata": {},
   "outputs": [
    {
     "data": {
      "image/png": "[encoded data removed]",
      "text/plain": [
       "<Figure size 640x480 with 1 Axes>"
      ]
     },
     "metadata": {},
     "output_type": "display_data"
    }
   ],
   "source": [
    "Phylo.draw(tr)"
   ]
  },
  {
   "cell_type": "code",
   "execution_count": 34,
   "metadata": {},
   "outputs": [],
   "source": [
    "F, W, R = encode(nwk_str, 16, list(map(str, np.nonzero(vOI_gt)[0])))"
   ]
  },
  {
   "cell_type": "code",
   "execution_count": 35,
   "metadata": {},
   "outputs": [
    {
     "data": {
      "text/plain": [
       "array([[ 2,  0,  0,  0,  0,  0,  0,  0,  0,  0,  0,  0,  0,  0,  0],\n",
       "       [ 1,  3,  0,  0,  0,  0,  0,  0,  0,  0,  0,  0,  0,  0,  0],\n",
       "       [ 1,  2,  4,  0,  0,  0,  0,  0,  0,  0,  0,  0,  0,  0,  0],\n",
       "       [ 1,  1,  3,  5,  0,  0,  0,  0,  0,  0,  0,  0,  0,  0,  0],\n",
       "       [ 1,  1,  2,  4,  6,  0,  0,  0,  0,  0,  0,  0,  0,  0,  0],\n",
       "       [ 1,  1,  2,  4,  5,  7,  0,  0,  0,  0,  0,  0,  0,  0,  0],\n",
       "       [ 1,  1,  2,  4,  5,  6,  8,  0,  0,  0,  0,  0,  0,  0,  0],\n",
       "       [ 1,  1,  2,  4,  4,  5,  7,  9,  0,  0,  0,  0,  0,  0,  0],\n",
       "       [ 0,  0,  1,  3,  3,  4,  6,  8, 10,  0,  0,  0,  0,  0,  0],\n",
       "       [ 0,  0,  1,  3,  3,  4,  6,  8,  9, 11,  0,  0,  0,  0,  0],\n",
       "       [ 0,  0,  1,  3,  3,  4,  6,  8,  9, 10, 12,  0,  0,  0,  0],\n",
       "       [ 0,  0,  1,  3,  3,  4,  6,  8,  9, 10, 11, 13,  0,  0,  0],\n",
       "       [ 0,  0,  1,  3,  3,  4,  6,  8,  9, 10, 10, 12, 14,  0,  0],\n",
       "       [ 0,  0,  1,  3,  3,  4,  6,  8,  8,  9,  9, 11, 13, 15,  0],\n",
       "       [ 0,  0,  1,  3,  3,  4,  6,  8,  8,  9,  9, 11, 12, 14, 16]])"
      ]
     },
     "execution_count": 35,
     "metadata": {},
     "output_type": "execute_result"
    }
   ],
   "source": [
    "F"
   ]
  },
  {
   "cell_type": "code",
   "execution_count": 36,
   "metadata": {},
   "outputs": [
    {
     "data": {
      "text/plain": [
       "array([[0, 0, 0, 0, 0, 0, 0, 0, 0, 0, 0, 0, 0, 0, 0],\n",
       "       [0, 0, 0, 0, 0, 0, 0, 0, 0, 0, 0, 0, 0, 0, 0],\n",
       "       [0, 0, 0, 0, 0, 0, 0, 0, 0, 0, 0, 0, 0, 0, 0],\n",
       "       [0, 0, 0, 0, 0, 0, 0, 0, 0, 0, 0, 0, 0, 0, 0],\n",
       "       [0, 0, 0, 0, 0, 0, 0, 0, 0, 0, 0, 0, 0, 0, 0],\n",
       "       [0, 0, 0, 0, 0, 0, 0, 0, 0, 0, 0, 0, 0, 0, 0],\n",
       "       [0, 0, 0, 0, 0, 0, 0, 0, 0, 0, 0, 0, 0, 0, 0],\n",
       "       [0, 0, 0, 0, 0, 0, 0, 0, 0, 0, 0, 0, 0, 0, 0],\n",
       "       [0, 0, 0, 0, 0, 0, 0, 0, 2, 0, 0, 0, 0, 0, 0],\n",
       "       [0, 0, 0, 0, 0, 0, 0, 0, 1, 3, 0, 0, 0, 0, 0],\n",
       "       [0, 0, 0, 0, 0, 0, 0, 0, 1, 2, 4, 0, 0, 0, 0],\n",
       "       [0, 0, 0, 0, 0, 0, 0, 0, 1, 2, 3, 5, 0, 0, 0],\n",
       "       [0, 0, 0, 0, 0, 0, 0, 0, 1, 2, 2, 4, 6, 0, 0],\n",
       "       [0, 0, 0, 0, 0, 0, 0, 0, 0, 1, 1, 3, 5, 7, 0],\n",
       "       [0, 0, 0, 0, 0, 0, 0, 0, 0, 1, 1, 3, 4, 6, 8]])"
      ]
     },
     "execution_count": 36,
     "metadata": {},
     "output_type": "execute_result"
    }
   ],
   "source": [
    "R"
   ]
  },
  {
   "cell_type": "code",
   "execution_count": 40,
   "metadata": {},
   "outputs": [
    {
     "data": {
      "text/plain": [
       "array([[ 6806,     0,     0,     0,     0,     0,     0,     0,     0,\n",
       "            0,     0,     0,     0,     0,     0],\n",
       "       [ 7675,   868,     0,     0,     0,     0,     0,     0,     0,\n",
       "            0,     0,     0,     0,     0,     0],\n",
       "       [17822, 11016, 10147,     0,     0,     0,     0,     0,     0,\n",
       "            0,     0,     0,     0,     0,     0],\n",
       "       [17996, 11190, 10321,   173,     0,     0,     0,     0,     0,\n",
       "            0,     0,     0,     0,     0,     0],\n",
       "       [19412, 12605, 11737,  1589,  1415,     0,     0,     0,     0,\n",
       "            0,     0,     0,     0,     0,     0],\n",
       "       [20586, 13779, 12911,  2763,  2589,  1173,     0,     0,     0,\n",
       "            0,     0,     0,     0,     0,     0],\n",
       "       [20966, 14160, 13291,  3144,  2970,  1554,   380,     0,     0,\n",
       "            0,     0,     0,     0,     0,     0],\n",
       "       [21481, 14675, 13806,  3659,  3485,  2069,   895,   515,     0,\n",
       "            0,     0,     0,     0,     0,     0],\n",
       "       [21514, 14707, 13839,  3691,  3517,  2102,   928,   547,    32,\n",
       "            0,     0,     0,     0,     0,     0],\n",
       "       [21580, 14774, 13905,  3758,  3584,  2168,   994,   614,    98,\n",
       "           66,     0,     0,     0,     0,     0],\n",
       "       [21658, 14851, 13983,  3835,  3661,  2246,  1072,   691,   176,\n",
       "          144,    77,     0,     0,     0,     0],\n",
       "       [21668, 14861, 13993,  3845,  3671,  2256,  1082,   701,   186,\n",
       "          154,    87,    10,     0,     0,     0],\n",
       "       [21674, 14868, 13999,  3852,  3678,  2262,  1088,   708,   192,\n",
       "          160,    94,    16,     6,     0,     0],\n",
       "       [21724, 14918, 14049,  3902,  3728,  2312,  1138,   758,   242,\n",
       "          210,   144,    66,    56,    49,     0],\n",
       "       [22105, 15299, 14430,  4283,  4109,  2693,  1519,  1139,   624,\n",
       "          591,   525,   447,   437,   431,   381]])"
      ]
     },
     "execution_count": 40,
     "metadata": {},
     "output_type": "execute_result"
    }
   ],
   "source": [
    "(W*4*10000).astype(int)"
   ]
  },
  {
   "cell_type": "markdown",
   "metadata": {},
   "source": [
    "#### Check trial run"
   ]
  },
  {
   "cell_type": "code",
   "execution_count": 17,
   "metadata": {},
   "outputs": [
    {
     "name": "stdout",
     "output_type": "stream",
     "text": [
      "['SC', 'SAF', 'CAF', 'onset', 'foc_var_pos', 'site_cnt', 'fea']\n"
     ]
    }
   ],
   "source": [
    "with np.load(\"/grid/siepel/home_norepl/mo/dom_adapt/1000GCEU_reanalysis/discoal_out/discoal_TRIAL2neu_1128_198_neu_60.npz\") as npzF:\n",
    "    print(list(npzF.keys()))\n",
    "    SC = npzF[\"SC\"]\n",
    "    SAF = npzF[\"SAF\"]\n",
    "    CAF = npzF[\"CAF\"]\n",
    "    onset = npzF[\"onset\"]\n",
    "    foc_var_pos = npzF[\"foc_var_pos\"]\n",
    "    site_cnt = npzF[\"site_cnt\"]\n",
    "    fea = npzF[\"fea\"]"
   ]
  },
  {
   "cell_type": "code",
   "execution_count": 19,
   "metadata": {},
   "outputs": [
    {
     "data": {
      "text/plain": [
       "array([[[    2,     0,     0, ...,     0,     0,     0],\n",
       "        [    1,     3,     0, ...,     0,     0,     0],\n",
       "        [    1,     2,     4, ...,     0,     0,     0],\n",
       "        ...,\n",
       "        [    0,     0,     0, ...,   196,     0,     0],\n",
       "        [    0,     0,     0, ...,   195,   197,     0],\n",
       "        [    0,     0,     0, ...,   194,   196,   198]],\n",
       "\n",
       "       [[ 5041,     0,     0, ...,     0,     0,     0],\n",
       "        [15123, 10081,     0, ...,     0,     0,     0],\n",
       "        [18083, 13042,  2960, ...,     0,     0,     0],\n",
       "        ...,\n",
       "        [20758, 15716,  5635, ...,    30,     0,     0],\n",
       "        [20765, 15724,  5642, ...,    37,     7,     0],\n",
       "        [20818, 15776,  5695, ...,    90,    60,    52]],\n",
       "\n",
       "       [[    0,     0,     0, ...,     0,     0,     0],\n",
       "        [    0,     0,     0, ...,     0,     0,     0],\n",
       "        [    0,     0,     0, ...,     0,     0,     0],\n",
       "        ...,\n",
       "        [    0,     0,     0, ...,    27,     0,     0],\n",
       "        [    0,     0,     0, ...,    27,    27,     0],\n",
       "        [    0,     0,     0, ...,    27,    27,    27]]], dtype=int32)"
      ]
     },
     "execution_count": 19,
     "metadata": {},
     "output_type": "execute_result"
    }
   ],
   "source": [
    "fea[23]"
   ]
  },
  {
   "cell_type": "code",
   "execution_count": null,
   "metadata": {},
   "outputs": [],
   "source": []
  }
 ],
 "metadata": {
  "kernelspec": {
   "display_name": "Python 3.9.13 ('msprime-env')",
   "language": "python",
   "name": "python3"
  },
  "language_info": {
   "codemirror_mode": {
    "name": "ipython",
    "version": 3
   },
   "file_extension": ".py",
   "mimetype": "text/x-python",
   "name": "python",
   "nbconvert_exporter": "python",
   "pygments_lexer": "ipython3",
   "version": "3.9.13"
  },
  "orig_nbformat": 4,
  "vscode": {
   "interpreter": {
    "hash": "9d1da8960215afbee4aa04c6cf538ddf364759a9e0d2d23deb78918dffd7f1ba"
   }
  }
 },
 "nbformat": 4,
 "nbformat_minor": 2
}
